{
 "cells": [
  {
   "cell_type": "code",
   "execution_count": 4,
   "metadata": {},
   "outputs": [],
   "source": [
    "import pymorphy2"
   ]
  },
  {
   "cell_type": "code",
   "execution_count": 5,
   "metadata": {
    "collapsed": true
   },
   "outputs": [],
   "source": [
    "text = open(\"./wp.txt\").read()"
   ]
  },
  {
   "cell_type": "code",
   "execution_count": 6,
   "metadata": {
    "collapsed": true
   },
   "outputs": [],
   "source": [
    "import re\n",
    "def text_to_wordlist(sent):\n",
    "    regexp = u\"[^а-яА-Яё]\"\n",
    "    sent = re.sub(regexp, u\" \", sent)\n",
    "    return sent.lower().split()"
   ]
  },
  {
   "cell_type": "code",
   "execution_count": 52,
   "metadata": {},
   "outputs": [],
   "source": [
    "def add_charp(n, wordlist):\n",
    "    new_list = []\n",
    "    for word in wordlist:\n",
    "        if len(word) > 0:\n",
    "            for i in range(n -1 ):\n",
    "                word = '#' + word + '#'\n",
    "            new_list.append(word)\n",
    "    return new_list"
   ]
  },
  {
   "cell_type": "code",
   "execution_count": 53,
   "metadata": {
    "collapsed": true
   },
   "outputs": [],
   "source": [
    "def n_grams(n, wordlist):\n",
    "    wordlist = add_charp(n, wordlist)\n",
    "    new_list = []\n",
    "    for word in wordlist:\n",
    "        for i in range(n, len(word)):\n",
    "            new_list.append(word[i - n:i])\n",
    "    return new_list"
   ]
  },
  {
   "cell_type": "code",
   "execution_count": 54,
   "metadata": {
    "collapsed": true
   },
   "outputs": [],
   "source": [
    "def count(text):\n",
    "    wordlist = text_to_wordlist(text)\n",
    "    ngrams = n_grams(3, new_list)\n",
    "    count = Counter(ngrams)\n",
    "    new_count = Counter()\n",
    "    for item in count:\n",
    "        new_count[item] = count[item]/float(len(ngrams))\n",
    "    return new_count"
   ]
  },
  {
   "cell_type": "code",
   "execution_count": 55,
   "metadata": {
    "collapsed": true
   },
   "outputs": [],
   "source": [
    "res = count(text)"
   ]
  },
  {
   "cell_type": "code",
   "execution_count": 65,
   "metadata": {},
   "outputs": [
    {
     "data": {
      "text/plain": [
       "'###'"
      ]
     },
     "execution_count": 65,
     "metadata": {},
     "output_type": "execute_result"
    }
   ],
   "source": [
    "list(res.keys())[0]"
   ]
  },
  {
   "cell_type": "code",
   "execution_count": 66,
   "metadata": {},
   "outputs": [],
   "source": [
    "def check(count, word, lim):\n",
    "    n = len(list(count.keys())[0])\n",
    "    word = '#'*(n-1) + word + '#'*(n-1)\n",
    "    ngrams = []\n",
    "    for i in range(n, len(word)):\n",
    "        new_list.append(word[i - n:i])\n",
    "    for ngram in ngrams:\n",
    "        if count[ngram] < lim:\n",
    "            print (ngram)\n",
    "            print (\"misprint\")\n",
    "            "
   ]
  },
  {
   "cell_type": "code",
   "execution_count": null,
   "metadata": {
    "collapsed": true
   },
   "outputs": [],
   "source": [
    "word = \"\"\n",
    "lim = 0.001\n",
    "check(res, word, lim)"
   ]
  }
 ],
 "metadata": {
  "kernelspec": {
   "display_name": "Python 3",
   "language": "python",
   "name": "python3"
  },
  "language_info": {
   "codemirror_mode": {
    "name": "ipython",
    "version": 3
   },
   "file_extension": ".py",
   "mimetype": "text/x-python",
   "name": "python",
   "nbconvert_exporter": "python",
   "pygments_lexer": "ipython3",
   "version": "3.6.2"
  }
 },
 "nbformat": 4,
 "nbformat_minor": 2
}
