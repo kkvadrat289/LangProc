{
 "cells": [
  {
   "cell_type": "code",
   "execution_count": 1,
   "metadata": {
    "collapsed": true
   },
   "outputs": [],
   "source": [
    "import pymorphy2 as pm"
   ]
  },
  {
   "cell_type": "code",
   "execution_count": 13,
   "metadata": {},
   "outputs": [
    {
     "name": "stdout",
     "output_type": "stream",
     "text": [
      "рука\n"
     ]
    }
   ],
   "source": [
    "morth = pm.MorphAnalyzer()\n",
    "p = morth.parse(u'руки')[0]\n",
    "print p.normal_form"
   ]
  },
  {
   "cell_type": "code",
   "execution_count": 15,
   "metadata": {},
   "outputs": [
    {
     "data": {
      "text/plain": [
       "OpencorporaTag('NOUN,inan,femn sing,gent')"
      ]
     },
     "execution_count": 15,
     "metadata": {},
     "output_type": "execute_result"
    }
   ],
   "source": [
    "p.tag"
   ]
  },
  {
   "cell_type": "code",
   "execution_count": 42,
   "metadata": {},
   "outputs": [
    {
     "name": "stdout",
     "output_type": "stream",
     "text": [
      "руки NOUN,inan,femn sing,gent 0.851851\n",
      "руки NOUN,inan,femn plur,accs 0.111111\n",
      "руки NOUN,inan,femn plur,nomn 0.037037\n",
      "[Parse(word=u'\\u0440\\u0443\\u043a\\u0438', tag=OpencorporaTag('NOUN,inan,femn sing,gent'), normal_form=u'\\u0440\\u0443\\u043a\\u0430', score=0.851851, methods_stack=((<DictionaryAnalyzer>, u'\\u0440\\u0443\\u043a\\u0438', 43, 1),)), Parse(word=u'\\u0440\\u0443\\u043a\\u0438', tag=OpencorporaTag('NOUN,inan,femn plur,accs'), normal_form=u'\\u0440\\u0443\\u043a\\u0430', score=0.111111, methods_stack=((<DictionaryAnalyzer>, u'\\u0440\\u0443\\u043a\\u0438', 43, 10),)), Parse(word=u'\\u0440\\u0443\\u043a\\u0438', tag=OpencorporaTag('NOUN,inan,femn plur,nomn'), normal_form=u'\\u0440\\u0443\\u043a\\u0430', score=0.037037, methods_stack=((<DictionaryAnalyzer>, u'\\u0440\\u0443\\u043a\\u0438', 43, 7),))]\n"
     ]
    }
   ],
   "source": [
    "p = morth.parse(u'руки')\n",
    "for el in p:\n",
    "    print el.word, el.tag, el.score\n",
    "print p"
   ]
  },
  {
   "cell_type": "code",
   "execution_count": 28,
   "metadata": {},
   "outputs": [
    {
     "name": "stdout",
     "output_type": "stream",
     "text": [
      "три NUMR inan,accs 0.571428\n",
      "три NUMR nomn 0.285714\n",
      "тереть VERB,impf,tran sing,impr,excl 0.142857\n"
     ]
    }
   ],
   "source": [
    "p = morth.parse(u'три')\n",
    "for el in p:\n",
    "    print el.normal_form, el.tag, el.score"
   ]
  },
  {
   "cell_type": "code",
   "execution_count": 36,
   "metadata": {
    "scrolled": true
   },
   "outputs": [
    {
     "name": "stdout",
     "output_type": "stream",
     "text": [
      "стать 1.0\n",
      "стал 1.0\n",
      "стала 1.0\n",
      "стало 1.0\n",
      "стали 1.0\n",
      "стану 1.0\n",
      "станем 1.0\n",
      "станешь 1.0\n",
      "станете 1.0\n",
      "станет 1.0\n",
      "станут 1.0\n",
      "станем 1.0\n",
      "станемте 1.0\n",
      "стань 1.0\n",
      "станьте 1.0\n",
      "ставший 1.0\n",
      "ставшего 1.0\n",
      "ставшему 1.0\n",
      "ставшего 1.0\n",
      "ставший 1.0\n",
      "ставшим 1.0\n",
      "ставшем 1.0\n",
      "ставшая 1.0\n",
      "ставшей 1.0\n",
      "ставшей 1.0\n",
      "ставшую 1.0\n",
      "ставшей 1.0\n",
      "ставшею 1.0\n",
      "ставшей 1.0\n",
      "ставшее 1.0\n",
      "ставшего 1.0\n",
      "ставшему 1.0\n",
      "ставшее 1.0\n",
      "ставшим 1.0\n",
      "ставшем 1.0\n",
      "ставшие 1.0\n",
      "ставших 1.0\n",
      "ставшим 1.0\n",
      "ставших 1.0\n",
      "ставшие 1.0\n",
      "ставшими 1.0\n",
      "ставших 1.0\n",
      "став 1.0\n",
      "ставши 1.0\n",
      "стать 1.0\n",
      "стати 1.0\n",
      "стати 1.0\n",
      "стать 1.0\n",
      "статью 1.0\n",
      "стати 1.0\n",
      "стати 1.0\n",
      "статей 1.0\n",
      "статям 1.0\n",
      "стати 1.0\n",
      "статями 1.0\n",
      "статях 1.0\n",
      "стать 1.0\n",
      "стати 1.0\n",
      "стати 1.0\n",
      "стать 1.0\n",
      "статью 1.0\n",
      "стати 1.0\n",
      "стати 1.0\n",
      "статей 1.0\n",
      "статям 1.0\n",
      "стати 1.0\n",
      "статями 1.0\n",
      "статях 1.0\n"
     ]
    }
   ],
   "source": [
    "p = morth.parse(u'стать')\n",
    "for el in p:\n",
    "    for word in el.lexeme:\n",
    "        print word.word, word.score"
   ]
  },
  {
   "cell_type": "code",
   "execution_count": 41,
   "metadata": {},
   "outputs": [
    {
     "name": "stdout",
     "output_type": "stream",
     "text": [
      "турками\n"
     ]
    }
   ],
   "source": [
    "p = morth.parse(u'турок')[0]\n",
    "print p.inflect({'plur', 'ablt'}).word"
   ]
  },
  {
   "cell_type": "code",
   "execution_count": 45,
   "metadata": {},
   "outputs": [
    {
     "data": {
      "text/plain": [
       "u'NOUN'"
      ]
     },
     "execution_count": 45,
     "metadata": {},
     "output_type": "execute_result"
    }
   ],
   "source": [
    "morth.parse(u'майню')[0].tag.POS"
   ]
  },
  {
   "cell_type": "code",
   "execution_count": 119,
   "metadata": {
    "collapsed": true
   },
   "outputs": [],
   "source": [
    "text = open(\"./wp.txt\").read().decode(\"UTF-8\")"
   ]
  },
  {
   "cell_type": "code",
   "execution_count": 120,
   "metadata": {
    "collapsed": true
   },
   "outputs": [],
   "source": [
    "from collections import Counter"
   ]
  },
  {
   "cell_type": "code",
   "execution_count": 127,
   "metadata": {
    "collapsed": true
   },
   "outputs": [],
   "source": [
    "import re\n",
    "def text_to_wordlist(sent):\n",
    "    regexp = u\"[^а-яА-Яё]\"\n",
    "    sent = re.sub(regexp, u\" \", sent)\n",
    "    return sent.lower().split()"
   ]
  },
  {
   "cell_type": "code",
   "execution_count": 128,
   "metadata": {
    "collapsed": true
   },
   "outputs": [],
   "source": [
    "count = Counter(text_to_wordlist(text))"
   ]
  },
  {
   "cell_type": "code",
   "execution_count": 130,
   "metadata": {},
   "outputs": [
    {
     "data": {
      "text/plain": [
       "104369"
      ]
     },
     "execution_count": 130,
     "metadata": {},
     "output_type": "execute_result"
    }
   ],
   "source": [
    "len(text_to_wordlist(text))"
   ]
  },
  {
   "cell_type": "code",
   "execution_count": 129,
   "metadata": {},
   "outputs": [
    {
     "data": {
      "text/plain": [
       "19227"
      ]
     },
     "execution_count": 129,
     "metadata": {},
     "output_type": "execute_result"
    }
   ],
   "source": [
    "len(Counter(count))"
   ]
  },
  {
   "cell_type": "code",
   "execution_count": 116,
   "metadata": {
    "collapsed": true
   },
   "outputs": [],
   "source": []
  },
  {
   "cell_type": "code",
   "execution_count": 131,
   "metadata": {
    "collapsed": true
   },
   "outputs": [],
   "source": [
    "new_count = Counter()\n",
    "\n",
    "for word in text_to_wordlist(text):\n",
    "    p = morth.parse(word)[0]\n",
    "    if p.tag.POS == u'NOUN':\n",
    "        new_count[p.normal_form] += 1"
   ]
  },
  {
   "cell_type": "code",
   "execution_count": 132,
   "metadata": {},
   "outputs": [
    {
     "name": "stdout",
     "output_type": "stream",
     "text": [
      "князь\n",
      "андрей\n",
      "человек\n",
      "лицо\n",
      "пьер\n",
      "рука\n",
      "ростов\n",
      "глаз\n",
      "офицер\n",
      "княжна\n"
     ]
    }
   ],
   "source": [
    "for el in new_count.most_common(10):\n",
    "    print el[0]"
   ]
  },
  {
   "cell_type": "code",
   "execution_count": 133,
   "metadata": {},
   "outputs": [
    {
     "name": "stdout",
     "output_type": "stream",
     "text": [
      "быть\n",
      "сказать\n",
      "говорить\n",
      "мочь\n",
      "знать\n",
      "думать\n",
      "хотеть\n",
      "стать\n",
      "видеть\n",
      "смотреть\n"
     ]
    }
   ],
   "source": [
    "new_count = Counter()\n",
    "\n",
    "for word in text_to_wordlist(text):\n",
    "    p = morth.parse(word)[0]\n",
    "    if p.tag.POS == u'VERB':\n",
    "        new_count[p.normal_form] += 1\n",
    "for el in new_count.most_common(10):\n",
    "    print el[0]"
   ]
  }
 ],
 "metadata": {
  "kernelspec": {
   "display_name": "Python 2",
   "language": "python2",
   "name": "python2"
  },
  "language_info": {
   "codemirror_mode": {
    "name": "ipython",
    "version": 2
   },
   "file_extension": ".py",
   "mimetype": "text/x-python",
   "name": "python",
   "nbconvert_exporter": "python",
   "pygments_lexer": "ipython2",
   "version": "2.7.13"
  }
 },
 "nbformat": 4,
 "nbformat_minor": 2
}
